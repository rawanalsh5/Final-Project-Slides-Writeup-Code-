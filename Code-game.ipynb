{
 "cells": [
  {
   "cell_type": "code",
   "execution_count": 1,
   "id": "bdacd571",
   "metadata": {},
   "outputs": [],
   "source": [
    "import pandas as pd\n",
    "import numpy as np\n",
    "import matplotlib.pyplot as plt\n",
    "import seaborn as sns"
   ]
  },
  {
   "cell_type": "code",
   "execution_count": 2,
   "id": "615797fd",
   "metadata": {},
   "outputs": [
    {
     "data": {
      "text/html": [
       "<div>\n",
       "<style scoped>\n",
       "    .dataframe tbody tr th:only-of-type {\n",
       "        vertical-align: middle;\n",
       "    }\n",
       "\n",
       "    .dataframe tbody tr th {\n",
       "        vertical-align: top;\n",
       "    }\n",
       "\n",
       "    .dataframe thead th {\n",
       "        text-align: right;\n",
       "    }\n",
       "</style>\n",
       "<table border=\"1\" class=\"dataframe\">\n",
       "  <thead>\n",
       "    <tr style=\"text-align: right;\">\n",
       "      <th></th>\n",
       "      <th>Rank</th>\n",
       "      <th>Name</th>\n",
       "      <th>Platform</th>\n",
       "      <th>Year</th>\n",
       "      <th>Genre</th>\n",
       "      <th>Publisher</th>\n",
       "      <th>NA_Sales</th>\n",
       "      <th>EU_Sales</th>\n",
       "      <th>JP_Sales</th>\n",
       "      <th>Other_Sales</th>\n",
       "      <th>Global_Sales</th>\n",
       "    </tr>\n",
       "  </thead>\n",
       "  <tbody>\n",
       "    <tr>\n",
       "      <th>0</th>\n",
       "      <td>259</td>\n",
       "      <td>Asteroids</td>\n",
       "      <td>2600</td>\n",
       "      <td>1980</td>\n",
       "      <td>Shooter</td>\n",
       "      <td>Atari</td>\n",
       "      <td>4.00</td>\n",
       "      <td>0.26</td>\n",
       "      <td>0.0</td>\n",
       "      <td>0.05</td>\n",
       "      <td>4.31</td>\n",
       "    </tr>\n",
       "    <tr>\n",
       "      <th>1</th>\n",
       "      <td>545</td>\n",
       "      <td>Missile Command</td>\n",
       "      <td>2600</td>\n",
       "      <td>1980</td>\n",
       "      <td>Shooter</td>\n",
       "      <td>Atari</td>\n",
       "      <td>2.56</td>\n",
       "      <td>0.17</td>\n",
       "      <td>0.0</td>\n",
       "      <td>0.03</td>\n",
       "      <td>2.76</td>\n",
       "    </tr>\n",
       "    <tr>\n",
       "      <th>2</th>\n",
       "      <td>1768</td>\n",
       "      <td>Kaboom!</td>\n",
       "      <td>2600</td>\n",
       "      <td>1980</td>\n",
       "      <td>Misc</td>\n",
       "      <td>Activision</td>\n",
       "      <td>1.07</td>\n",
       "      <td>0.07</td>\n",
       "      <td>0.0</td>\n",
       "      <td>0.01</td>\n",
       "      <td>1.15</td>\n",
       "    </tr>\n",
       "    <tr>\n",
       "      <th>3</th>\n",
       "      <td>1971</td>\n",
       "      <td>Defender</td>\n",
       "      <td>2600</td>\n",
       "      <td>1980</td>\n",
       "      <td>Misc</td>\n",
       "      <td>Atari</td>\n",
       "      <td>0.99</td>\n",
       "      <td>0.05</td>\n",
       "      <td>0.0</td>\n",
       "      <td>0.01</td>\n",
       "      <td>1.05</td>\n",
       "    </tr>\n",
       "    <tr>\n",
       "      <th>4</th>\n",
       "      <td>2671</td>\n",
       "      <td>Boxing</td>\n",
       "      <td>2600</td>\n",
       "      <td>1980</td>\n",
       "      <td>Fighting</td>\n",
       "      <td>Activision</td>\n",
       "      <td>0.72</td>\n",
       "      <td>0.04</td>\n",
       "      <td>0.0</td>\n",
       "      <td>0.01</td>\n",
       "      <td>0.77</td>\n",
       "    </tr>\n",
       "  </tbody>\n",
       "</table>\n",
       "</div>"
      ],
      "text/plain": [
       "   Rank             Name Platform  Year     Genre   Publisher  NA_Sales  \\\n",
       "0   259        Asteroids     2600  1980   Shooter       Atari      4.00   \n",
       "1   545  Missile Command     2600  1980   Shooter       Atari      2.56   \n",
       "2  1768          Kaboom!     2600  1980      Misc  Activision      1.07   \n",
       "3  1971         Defender     2600  1980      Misc       Atari      0.99   \n",
       "4  2671           Boxing     2600  1980  Fighting  Activision      0.72   \n",
       "\n",
       "   EU_Sales  JP_Sales  Other_Sales  Global_Sales  \n",
       "0      0.26       0.0         0.05          4.31  \n",
       "1      0.17       0.0         0.03          2.76  \n",
       "2      0.07       0.0         0.01          1.15  \n",
       "3      0.05       0.0         0.01          1.05  \n",
       "4      0.04       0.0         0.01          0.77  "
      ]
     },
     "execution_count": 2,
     "metadata": {},
     "output_type": "execute_result"
    }
   ],
   "source": [
    "data = pd.read_csv(\"vgsales.csv\")\n",
    "data.head()"
   ]
  },
  {
   "cell_type": "code",
   "execution_count": 3,
   "id": "227a93a5",
   "metadata": {},
   "outputs": [
    {
     "data": {
      "text/plain": [
       "(16324, 11)"
      ]
     },
     "execution_count": 3,
     "metadata": {},
     "output_type": "execute_result"
    }
   ],
   "source": [
    "data.shape"
   ]
  },
  {
   "cell_type": "code",
   "execution_count": 4,
   "id": "b347fa65",
   "metadata": {},
   "outputs": [
    {
     "data": {
      "text/plain": [
       "Rank             0\n",
       "Name             0\n",
       "Platform         0\n",
       "Year             0\n",
       "Genre            0\n",
       "Publisher       36\n",
       "NA_Sales         0\n",
       "EU_Sales         0\n",
       "JP_Sales         0\n",
       "Other_Sales      0\n",
       "Global_Sales     0\n",
       "dtype: int64"
      ]
     },
     "execution_count": 4,
     "metadata": {},
     "output_type": "execute_result"
    }
   ],
   "source": [
    "data.isnull().sum()"
   ]
  },
  {
   "cell_type": "code",
   "execution_count": 5,
   "id": "12cc668c",
   "metadata": {},
   "outputs": [],
   "source": [
    "data = data.dropna()"
   ]
  },
  {
   "cell_type": "code",
   "execution_count": 26,
   "id": "a0394d09",
   "metadata": {},
   "outputs": [
    {
     "data": {
      "image/png": "[encoded data removed]",
      "text/plain": [
       "<Figure size 360x360 with 1 Axes>"
      ]
     },
     "metadata": {},
     "output_type": "display_data"
    }
   ],
   "source": [
    "import matplotlib as mpl\n",
    "game = data.groupby(\"Genre\")[\"Global_Sales\"].count().head(10)\n",
    "custom_colors = mpl.colors.Normalize(vmin=min(game), vmax=max(game))\n",
    "colours = [mpl.cm.inferno(custom_colors(i)) for i in game]\n",
    "plt.figure(figsize=(5,5))\n",
    "plt.pie(game, labels=game.index, colors=colours)\n",
    "central_circle = plt.Circle((0, 0), 0.5, color='white')\n",
    "fig = plt.gcf()\n",
    "fig.gca().add_artist(central_circle)\n",
    "plt.rc('font', size=12)\n",
    "plt.title(\"Top 10 Categories of Games Sold\", fontsize=20)\n",
    "plt.show()"
   ]
  },
  {
   "cell_type": "code",
   "execution_count": 9,
   "id": "e6597af0",
   "metadata": {},
   "outputs": [
    {
     "data": {
      "text/html": [
       "<div>\n",
       "<style scoped>\n",
       "    .dataframe tbody tr th:only-of-type {\n",
       "        vertical-align: middle;\n",
       "    }\n",
       "\n",
       "    .dataframe tbody tr th {\n",
       "        vertical-align: top;\n",
       "    }\n",
       "\n",
       "    .dataframe thead th {\n",
       "        text-align: right;\n",
       "    }\n",
       "</style>\n",
       "<table border=\"1\" class=\"dataframe\">\n",
       "  <thead>\n",
       "    <tr style=\"text-align: right;\">\n",
       "      <th></th>\n",
       "      <th>Rank</th>\n",
       "      <th>Year</th>\n",
       "      <th>NA_Sales</th>\n",
       "      <th>EU_Sales</th>\n",
       "      <th>JP_Sales</th>\n",
       "      <th>Other_Sales</th>\n",
       "      <th>Global_Sales</th>\n",
       "    </tr>\n",
       "  </thead>\n",
       "  <tbody>\n",
       "    <tr>\n",
       "      <th>Rank</th>\n",
       "      <td>1.000000</td>\n",
       "      <td>0.177655</td>\n",
       "      <td>-0.400317</td>\n",
       "      <td>-0.379143</td>\n",
       "      <td>-0.269326</td>\n",
       "      <td>-0.332739</td>\n",
       "      <td>-0.426979</td>\n",
       "    </tr>\n",
       "    <tr>\n",
       "      <th>Year</th>\n",
       "      <td>0.177655</td>\n",
       "      <td>1.000000</td>\n",
       "      <td>-0.091233</td>\n",
       "      <td>0.006236</td>\n",
       "      <td>-0.169391</td>\n",
       "      <td>0.041248</td>\n",
       "      <td>-0.074565</td>\n",
       "    </tr>\n",
       "    <tr>\n",
       "      <th>NA_Sales</th>\n",
       "      <td>-0.400317</td>\n",
       "      <td>-0.091233</td>\n",
       "      <td>1.000000</td>\n",
       "      <td>0.768919</td>\n",
       "      <td>0.451278</td>\n",
       "      <td>0.634513</td>\n",
       "      <td>0.941268</td>\n",
       "    </tr>\n",
       "    <tr>\n",
       "      <th>EU_Sales</th>\n",
       "      <td>-0.379143</td>\n",
       "      <td>0.006236</td>\n",
       "      <td>0.768919</td>\n",
       "      <td>1.000000</td>\n",
       "      <td>0.436373</td>\n",
       "      <td>0.726253</td>\n",
       "      <td>0.903262</td>\n",
       "    </tr>\n",
       "    <tr>\n",
       "      <th>JP_Sales</th>\n",
       "      <td>-0.269326</td>\n",
       "      <td>-0.169391</td>\n",
       "      <td>0.451278</td>\n",
       "      <td>0.436373</td>\n",
       "      <td>1.000000</td>\n",
       "      <td>0.290553</td>\n",
       "      <td>0.612770</td>\n",
       "    </tr>\n",
       "    <tr>\n",
       "      <th>Other_Sales</th>\n",
       "      <td>-0.332739</td>\n",
       "      <td>0.041248</td>\n",
       "      <td>0.634513</td>\n",
       "      <td>0.726253</td>\n",
       "      <td>0.290553</td>\n",
       "      <td>1.000000</td>\n",
       "      <td>0.747960</td>\n",
       "    </tr>\n",
       "    <tr>\n",
       "      <th>Global_Sales</th>\n",
       "      <td>-0.426979</td>\n",
       "      <td>-0.074565</td>\n",
       "      <td>0.941268</td>\n",
       "      <td>0.903262</td>\n",
       "      <td>0.612770</td>\n",
       "      <td>0.747960</td>\n",
       "      <td>1.000000</td>\n",
       "    </tr>\n",
       "  </tbody>\n",
       "</table>\n",
       "</div>"
      ],
      "text/plain": [
       "                  Rank      Year  NA_Sales  EU_Sales  JP_Sales  Other_Sales  \\\n",
       "Rank          1.000000  0.177655 -0.400317 -0.379143 -0.269326    -0.332739   \n",
       "Year          0.177655  1.000000 -0.091233  0.006236 -0.169391     0.041248   \n",
       "NA_Sales     -0.400317 -0.091233  1.000000  0.768919  0.451278     0.634513   \n",
       "EU_Sales     -0.379143  0.006236  0.768919  1.000000  0.436373     0.726253   \n",
       "JP_Sales     -0.269326 -0.169391  0.451278  0.436373  1.000000     0.290553   \n",
       "Other_Sales  -0.332739  0.041248  0.634513  0.726253  0.290553     1.000000   \n",
       "Global_Sales -0.426979 -0.074565  0.941268  0.903262  0.612770     0.747960   \n",
       "\n",
       "              Global_Sales  \n",
       "Rank             -0.426979  \n",
       "Year             -0.074565  \n",
       "NA_Sales          0.941268  \n",
       "EU_Sales          0.903262  \n",
       "JP_Sales          0.612770  \n",
       "Other_Sales       0.747960  \n",
       "Global_Sales      1.000000  "
      ]
     },
     "execution_count": 9,
     "metadata": {},
     "output_type": "execute_result"
    }
   ],
   "source": [
    "data.corr()"
   ]
  },
  {
   "cell_type": "code",
   "execution_count": 10,
   "id": "fdf554c8",
   "metadata": {},
   "outputs": [
    {
     "data": {
      "image/png": "[encoded data removed]",
      "text/plain": [
       "<Figure size 432x288 with 2 Axes>"
      ]
     },
     "metadata": {
      "needs_background": "light"
     },
     "output_type": "display_data"
    }
   ],
   "source": [
    "sns.heatmap(data.corr(), cmap=\"Pastel1\")\n",
    "plt.show()"
   ]
  },
  {
   "cell_type": "code",
   "execution_count": 11,
   "id": "5e5fbd62",
   "metadata": {},
   "outputs": [],
   "source": [
    "x = data[[\"Rank\", \"NA_Sales\", \"EU_Sales\", \"JP_Sales\", \"Other_Sales\"]]\n",
    "y = data[\"Global_Sales\"]"
   ]
  },
  {
   "cell_type": "code",
   "execution_count": 12,
   "id": "d11d52a7",
   "metadata": {},
   "outputs": [],
   "source": [
    "from sklearn.model_selection import train_test_split\n",
    "xtrain, xtest, ytrain, ytest = train_test_split(x, y, test_size=0.2, random_state=42)\n",
    "\n",
    "from sklearn.linear_model import LinearRegression\n",
    "model = LinearRegression()\n",
    "model.fit(xtrain, ytrain)\n",
    "predictions = model.predict(xtest)"
   ]
  },
  {
   "cell_type": "code",
   "execution_count": 14,
   "id": "5839ccb8",
   "metadata": {},
   "outputs": [
    {
     "name": "stdout",
     "output_type": "stream",
     "text": [
      "Training Accuracy : 0.9999870440457412\n",
      "Testing Accuracy : 0.9999929293537628\n"
     ]
    }
   ],
   "source": [
    "# Training and Testing Accuracy\n",
    "print(\"Training Accuracy :\", model.score(xtrain, ytrain))\n",
    "print(\"Testing Accuracy :\", model.score(xtest, ytest))"
   ]
  },
  {
   "cell_type": "code",
   "execution_count": 15,
   "id": "595d4197",
   "metadata": {},
   "outputs": [
    {
     "name": "stdout",
     "output_type": "stream",
     "text": [
      "Coefficients: \n",
      " [8.02400864e-08 1.00008732e+00 9.99930916e-01 9.99985443e-01\n",
      " 1.00005120e+00]\n",
      "Mean squared error: 0.00\n",
      "Coefficient of determination: 1.00\n"
     ]
    }
   ],
   "source": [
    "from sklearn.metrics import mean_squared_error, r2_score\n",
    "# The coefficients\n",
    "print(\"Coefficients: \\n\", model.coef_)\n",
    "# The mean squared error\n",
    "print(\"Mean squared error: %.2f\" % mean_squared_error(ytest, predictions))\n",
    "# The coefficient of determination: \n",
    "print(\"Coefficient of determination: %.2f\" % r2_score(ytest, predictions))"
   ]
  },
  {
   "cell_type": "code",
   "execution_count": 16,
   "id": "f0ad4db0",
   "metadata": {},
   "outputs": [
    {
     "data": {
      "image/png": "[encoded data removed]",
      "text/plain": [
       "<Figure size 432x288 with 1 Axes>"
      ]
     },
     "metadata": {
      "needs_background": "light"
     },
     "output_type": "display_data"
    }
   ],
   "source": [
    "predictions = model.predict(xtest)\n",
    "plt.plot(ytest, predictions,'.')\n",
    "\n",
    "# plot a line, a perfit predict would all fall on this line\n",
    "x = np.linspace(0, 100,10)\n",
    "y = x\n",
    "plt.plot(x, y)\n",
    "plt.show()"
   ]
  },
  {
   "cell_type": "code",
   "execution_count": 19,
   "id": "8e12ea22",
   "metadata": {},
   "outputs": [
    {
     "name": "stdout",
     "output_type": "stream",
     "text": [
      "Predictions:  [0.0705823  1.66975138 2.29967932 ... 1.48979017 0.06059278 1.32974684]\n"
     ]
    }
   ],
   "source": [
    "print(\"Predictions: \", model.predict(xtest))"
   ]
  },
  {
   "cell_type": "code",
   "execution_count": 20,
   "id": "ae6a5f8e",
   "metadata": {},
   "outputs": [
    {
     "data": {
      "text/plain": [
       "array([4.3099538])"
      ]
     },
     "execution_count": 20,
     "metadata": {},
     "output_type": "execute_result"
    }
   ],
   "source": [
    "model.predict([[259,4,0.26,0.0,0.05]])"
   ]
  },
  {
   "cell_type": "code",
   "execution_count": 21,
   "id": "2e963e38",
   "metadata": {},
   "outputs": [
    {
     "data": {
      "text/html": [
       "<div>\n",
       "<style scoped>\n",
       "    .dataframe tbody tr th:only-of-type {\n",
       "        vertical-align: middle;\n",
       "    }\n",
       "\n",
       "    .dataframe tbody tr th {\n",
       "        vertical-align: top;\n",
       "    }\n",
       "\n",
       "    .dataframe thead th {\n",
       "        text-align: right;\n",
       "    }\n",
       "</style>\n",
       "<table border=\"1\" class=\"dataframe\">\n",
       "  <thead>\n",
       "    <tr style=\"text-align: right;\">\n",
       "      <th></th>\n",
       "      <th>Actual Value</th>\n",
       "      <th>Predictied value</th>\n",
       "      <th>Difference</th>\n",
       "    </tr>\n",
       "  </thead>\n",
       "  <tbody>\n",
       "    <tr>\n",
       "      <th>7949</th>\n",
       "      <td>0.07</td>\n",
       "      <td>0.070582</td>\n",
       "      <td>-0.000582</td>\n",
       "    </tr>\n",
       "    <tr>\n",
       "      <th>2380</th>\n",
       "      <td>1.67</td>\n",
       "      <td>1.669751</td>\n",
       "      <td>0.000249</td>\n",
       "    </tr>\n",
       "    <tr>\n",
       "      <th>13607</th>\n",
       "      <td>2.30</td>\n",
       "      <td>2.299679</td>\n",
       "      <td>0.000321</td>\n",
       "    </tr>\n",
       "    <tr>\n",
       "      <th>2252</th>\n",
       "      <td>0.09</td>\n",
       "      <td>0.090480</td>\n",
       "      <td>-0.000480</td>\n",
       "    </tr>\n",
       "    <tr>\n",
       "      <th>7272</th>\n",
       "      <td>0.93</td>\n",
       "      <td>0.929851</td>\n",
       "      <td>0.000149</td>\n",
       "    </tr>\n",
       "    <tr>\n",
       "      <th>15724</th>\n",
       "      <td>0.06</td>\n",
       "      <td>0.060593</td>\n",
       "      <td>-0.000593</td>\n",
       "    </tr>\n",
       "    <tr>\n",
       "      <th>10793</th>\n",
       "      <td>0.06</td>\n",
       "      <td>0.060589</td>\n",
       "      <td>-0.000589</td>\n",
       "    </tr>\n",
       "    <tr>\n",
       "      <th>11344</th>\n",
       "      <td>0.76</td>\n",
       "      <td>0.769806</td>\n",
       "      <td>-0.009806</td>\n",
       "    </tr>\n",
       "    <tr>\n",
       "      <th>13300</th>\n",
       "      <td>0.06</td>\n",
       "      <td>0.060607</td>\n",
       "      <td>-0.000607</td>\n",
       "    </tr>\n",
       "    <tr>\n",
       "      <th>3921</th>\n",
       "      <td>0.30</td>\n",
       "      <td>0.310075</td>\n",
       "      <td>-0.010075</td>\n",
       "    </tr>\n",
       "  </tbody>\n",
       "</table>\n",
       "</div>"
      ],
      "text/plain": [
       "       Actual Value  Predictied value  Difference\n",
       "7949           0.07          0.070582   -0.000582\n",
       "2380           1.67          1.669751    0.000249\n",
       "13607          2.30          2.299679    0.000321\n",
       "2252           0.09          0.090480   -0.000480\n",
       "7272           0.93          0.929851    0.000149\n",
       "15724          0.06          0.060593   -0.000593\n",
       "10793          0.06          0.060589   -0.000589\n",
       "11344          0.76          0.769806   -0.009806\n",
       "13300          0.06          0.060607   -0.000607\n",
       "3921           0.30          0.310075   -0.010075"
      ]
     },
     "execution_count": 21,
     "metadata": {},
     "output_type": "execute_result"
    }
   ],
   "source": [
    "Pridiction_values_df = pd.DataFrame({'Actual Value':ytest,'Predictied value':predictions, 'Difference':ytest-predictions })\n",
    "Pridiction_values_df[0:10]"
   ]
  },
  {
   "cell_type": "code",
   "execution_count": null,
   "id": "95c3e39f",
   "metadata": {},
   "outputs": [],
   "source": []
  }
 ],
 "metadata": {
  "kernelspec": {
   "display_name": "Python 3",
   "language": "python",
   "name": "python3"
  },
  "language_info": {
   "codemirror_mode": {
    "name": "ipython",
    "version": 3
   },
   "file_extension": ".py",
   "mimetype": "text/x-python",
   "name": "python",
   "nbconvert_exporter": "python",
   "pygments_lexer": "ipython3",
   "version": "3.8.8"
  }
 },
 "nbformat": 4,
 "nbformat_minor": 5
}
